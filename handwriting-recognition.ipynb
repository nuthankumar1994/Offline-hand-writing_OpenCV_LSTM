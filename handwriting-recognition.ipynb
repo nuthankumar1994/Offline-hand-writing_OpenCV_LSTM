{
 "cells": [
  {
   "cell_type": "code",
   "execution_count": 1,
   "id": "2dee0098",
   "metadata": {
    "_cell_guid": "b1076dfc-b9ad-4769-8c92-a6c4dae69d19",
    "_uuid": "8f2839f25d086af736a60e9eeb907d3b93b6e0e5",
    "execution": {
     "iopub.execute_input": "2022-01-17T11:01:51.639932Z",
     "iopub.status.busy": "2022-01-17T11:01:51.638086Z",
     "iopub.status.idle": "2022-01-17T11:01:51.643315Z",
     "shell.execute_reply": "2022-01-17T11:01:51.642738Z",
     "shell.execute_reply.started": "2022-01-17T10:13:04.249783Z"
    },
    "papermill": {
     "duration": 0.03824,
     "end_time": "2022-01-17T11:01:51.643450",
     "exception": false,
     "start_time": "2022-01-17T11:01:51.605210",
     "status": "completed"
    },
    "tags": []
   },
   "outputs": [],
   "source": [
    "import os\n",
    "\n",
    "base_dir = '/kaggle/input/handwriting-recognition'\n",
    "train_images_dir = os.path.join(base_dir, 'train_v2/train')\n",
    "validation_images_dir = os.path.join(base_dir, 'validation_v2/validation')\n",
    "test_images_dir = os.path.join(base_dir, 'test_v2/test')"
   ]
  },
  {
   "cell_type": "code",
   "execution_count": 2,
   "id": "a19fd596",
   "metadata": {
    "execution": {
     "iopub.execute_input": "2022-01-17T11:01:51.691417Z",
     "iopub.status.busy": "2022-01-17T11:01:51.690746Z",
     "iopub.status.idle": "2022-01-17T11:01:56.839608Z",
     "shell.execute_reply": "2022-01-17T11:01:56.839091Z",
     "shell.execute_reply.started": "2022-01-17T10:13:04.287729Z"
    },
    "papermill": {
     "duration": 5.173539,
     "end_time": "2022-01-17T11:01:56.839740",
     "exception": false,
     "start_time": "2022-01-17T11:01:51.666201",
     "status": "completed"
    },
    "tags": []
   },
   "outputs": [],
   "source": [
    "import numpy as np\n",
    "import pandas as pd\n",
    "import tensorflow as tf\n",
    "from tensorflow.keras import layers\n",
    "from tensorflow import keras\n",
    "import matplotlib.pyplot as plt\n",
    "import cv2"
   ]
  },
  {
   "cell_type": "code",
   "execution_count": 3,
   "id": "e03c4001",
   "metadata": {
    "execution": {
     "iopub.execute_input": "2022-01-17T11:01:56.886790Z",
     "iopub.status.busy": "2022-01-17T11:01:56.886175Z",
     "iopub.status.idle": "2022-01-17T11:01:57.336482Z",
     "shell.execute_reply": "2022-01-17T11:01:57.336974Z",
     "shell.execute_reply.started": "2022-01-17T10:13:10.961162Z"
    },
    "papermill": {
     "duration": 0.476562,
     "end_time": "2022-01-17T11:01:57.337136",
     "exception": false,
     "start_time": "2022-01-17T11:01:56.860574",
     "status": "completed"
    },
    "tags": []
   },
   "outputs": [],
   "source": [
    "train_csv = pd.read_csv(os.path.join(base_dir, 'written_name_train_v2.csv'))\n",
    "validation_csv = pd.read_csv(os.path.join(base_dir, 'written_name_validation_v2.csv'))\n",
    "test_csv = pd.read_csv(os.path.join(base_dir, 'written_name_test_v2.csv'))"
   ]
  },
  {
   "cell_type": "markdown",
   "id": "fbad85e5",
   "metadata": {
    "papermill": {
     "duration": 0.020577,
     "end_time": "2022-01-17T11:01:57.379162",
     "exception": false,
     "start_time": "2022-01-17T11:01:57.358585",
     "status": "completed"
    },
    "tags": []
   },
   "source": [
    "# Clean Data"
   ]
  },
  {
   "cell_type": "code",
   "execution_count": 4,
   "id": "0c1e2847",
   "metadata": {
    "execution": {
     "iopub.execute_input": "2022-01-17T11:01:57.428274Z",
     "iopub.status.busy": "2022-01-17T11:01:57.427573Z",
     "iopub.status.idle": "2022-01-17T11:01:57.438919Z",
     "shell.execute_reply": "2022-01-17T11:01:57.439340Z",
     "shell.execute_reply.started": "2022-01-17T10:13:11.482724Z"
    },
    "papermill": {
     "duration": 0.040028,
     "end_time": "2022-01-17T11:01:57.439478",
     "exception": false,
     "start_time": "2022-01-17T11:01:57.399450",
     "status": "completed"
    },
    "tags": []
   },
   "outputs": [
    {
     "data": {
      "text/html": [
       "<div>\n",
       "<style scoped>\n",
       "    .dataframe tbody tr th:only-of-type {\n",
       "        vertical-align: middle;\n",
       "    }\n",
       "\n",
       "    .dataframe tbody tr th {\n",
       "        vertical-align: top;\n",
       "    }\n",
       "\n",
       "    .dataframe thead th {\n",
       "        text-align: right;\n",
       "    }\n",
       "</style>\n",
       "<table border=\"1\" class=\"dataframe\">\n",
       "  <thead>\n",
       "    <tr style=\"text-align: right;\">\n",
       "      <th></th>\n",
       "      <th>FILENAME</th>\n",
       "      <th>IDENTITY</th>\n",
       "    </tr>\n",
       "  </thead>\n",
       "  <tbody>\n",
       "    <tr>\n",
       "      <th>0</th>\n",
       "      <td>TRAIN_00001.jpg</td>\n",
       "      <td>BALTHAZAR</td>\n",
       "    </tr>\n",
       "    <tr>\n",
       "      <th>1</th>\n",
       "      <td>TRAIN_00002.jpg</td>\n",
       "      <td>SIMON</td>\n",
       "    </tr>\n",
       "    <tr>\n",
       "      <th>2</th>\n",
       "      <td>TRAIN_00003.jpg</td>\n",
       "      <td>BENES</td>\n",
       "    </tr>\n",
       "    <tr>\n",
       "      <th>3</th>\n",
       "      <td>TRAIN_00004.jpg</td>\n",
       "      <td>LA LOVE</td>\n",
       "    </tr>\n",
       "    <tr>\n",
       "      <th>4</th>\n",
       "      <td>TRAIN_00005.jpg</td>\n",
       "      <td>DAPHNE</td>\n",
       "    </tr>\n",
       "  </tbody>\n",
       "</table>\n",
       "</div>"
      ],
      "text/plain": [
       "          FILENAME   IDENTITY\n",
       "0  TRAIN_00001.jpg  BALTHAZAR\n",
       "1  TRAIN_00002.jpg      SIMON\n",
       "2  TRAIN_00003.jpg      BENES\n",
       "3  TRAIN_00004.jpg    LA LOVE\n",
       "4  TRAIN_00005.jpg     DAPHNE"
      ]
     },
     "execution_count": 4,
     "metadata": {},
     "output_type": "execute_result"
    }
   ],
   "source": [
    "train_csv.head()"
   ]
  },
  {
   "cell_type": "code",
   "execution_count": 5,
   "id": "bdf6fc6d",
   "metadata": {
    "execution": {
     "iopub.execute_input": "2022-01-17T11:01:57.547136Z",
     "iopub.status.busy": "2022-01-17T11:01:57.546318Z",
     "iopub.status.idle": "2022-01-17T11:01:57.565740Z",
     "shell.execute_reply": "2022-01-17T11:01:57.565095Z",
     "shell.execute_reply.started": "2022-01-17T10:13:11.507120Z"
    },
    "papermill": {
     "duration": 0.105558,
     "end_time": "2022-01-17T11:01:57.565910",
     "exception": false,
     "start_time": "2022-01-17T11:01:57.460352",
     "status": "completed"
    },
    "tags": []
   },
   "outputs": [
    {
     "name": "stdout",
     "output_type": "stream",
     "text": [
      "<class 'pandas.core.frame.DataFrame'>\n",
      "RangeIndex: 330961 entries, 0 to 330960\n",
      "Data columns (total 2 columns):\n",
      " #   Column    Non-Null Count   Dtype \n",
      "---  ------    --------------   ----- \n",
      " 0   FILENAME  330961 non-null  object\n",
      " 1   IDENTITY  330396 non-null  object\n",
      "dtypes: object(2)\n",
      "memory usage: 5.1+ MB\n"
     ]
    }
   ],
   "source": [
    "train_csv.info()"
   ]
  },
  {
   "cell_type": "code",
   "execution_count": 6,
   "id": "cb79282f",
   "metadata": {
    "execution": {
     "iopub.execute_input": "2022-01-17T11:01:57.676671Z",
     "iopub.status.busy": "2022-01-17T11:01:57.675868Z",
     "iopub.status.idle": "2022-01-17T11:01:57.700689Z",
     "shell.execute_reply": "2022-01-17T11:01:57.701141Z",
     "shell.execute_reply.started": "2022-01-17T10:13:11.600383Z"
    },
    "papermill": {
     "duration": 0.113142,
     "end_time": "2022-01-17T11:01:57.701287",
     "exception": false,
     "start_time": "2022-01-17T11:01:57.588145",
     "status": "completed"
    },
    "tags": []
   },
   "outputs": [
    {
     "name": "stdout",
     "output_type": "stream",
     "text": [
      "Number of null values in train_csv: \n",
      " FILENAME      0\n",
      "IDENTITY    565\n",
      "dtype: int64\n",
      "\n",
      "---------------\n",
      "\n",
      "Number of null values in validation_csv: \n",
      " FILENAME     0\n",
      "IDENTITY    78\n",
      "dtype: int64\n",
      "\n",
      "---------------\n",
      "\n",
      "Number of null values in test_csv: \n",
      " FILENAME     0\n",
      "IDENTITY    70\n",
      "dtype: int64\n"
     ]
    }
   ],
   "source": [
    "# There are 565 null samples\n",
    "print(\"Number of null values in train_csv: \\n\",train_csv.isnull().sum())\n",
    "print('\\n---------------\\n')\n",
    "print(\"Number of null values in validation_csv: \\n\",validation_csv.isnull().sum())\n",
    "print('\\n---------------\\n')\n",
    "print(\"Number of null values in test_csv: \\n\",test_csv.isnull().sum())"
   ]
  },
  {
   "cell_type": "code",
   "execution_count": 7,
   "id": "395f2eb6",
   "metadata": {
    "execution": {
     "iopub.execute_input": "2022-01-17T11:01:57.813385Z",
     "iopub.status.busy": "2022-01-17T11:01:57.811914Z",
     "iopub.status.idle": "2022-01-17T11:01:57.856169Z",
     "shell.execute_reply": "2022-01-17T11:01:57.855281Z",
     "shell.execute_reply.started": "2022-01-17T10:13:11.697559Z"
    },
    "papermill": {
     "duration": 0.133264,
     "end_time": "2022-01-17T11:01:57.856316",
     "exception": false,
     "start_time": "2022-01-17T11:01:57.723052",
     "status": "completed"
    },
    "tags": []
   },
   "outputs": [],
   "source": [
    "# Drop null samples\n",
    "train_csv = train_csv.dropna()\n",
    "\n",
    "validation_csv = validation_csv.dropna()\n",
    "\n",
    "test_csv = test_csv.dropna()"
   ]
  },
  {
   "cell_type": "code",
   "execution_count": 8,
   "id": "e36c4643",
   "metadata": {
    "execution": {
     "iopub.execute_input": "2022-01-17T11:01:57.947013Z",
     "iopub.status.busy": "2022-01-17T11:01:57.946177Z",
     "iopub.status.idle": "2022-01-17T11:01:58.683936Z",
     "shell.execute_reply": "2022-01-17T11:01:58.684331Z",
     "shell.execute_reply.started": "2022-01-17T10:13:11.811173Z"
    },
    "papermill": {
     "duration": 0.806581,
     "end_time": "2022-01-17T11:01:58.684492",
     "exception": false,
     "start_time": "2022-01-17T11:01:57.877911",
     "status": "completed"
    },
    "tags": []
   },
   "outputs": [
    {
     "data": {
      "image/png": "[encoded data removed]",
      "text/plain": [
       "<Figure size 1080x216 with 6 Axes>"
      ]
     },
     "metadata": {
      "needs_background": "light"
     },
     "output_type": "display_data"
    }
   ],
   "source": [
    "# Plot unreadable image samples from train data\n",
    "unreadable_indexes = train_csv[train_csv['IDENTITY'] == 'UNREADABLE'].index\n",
    "\n",
    "plt.figure(figsize = (15,3))\n",
    "\n",
    "offset = 10\n",
    "for i in range(6):\n",
    "    ax = plt.subplot(2, 3, i+1)\n",
    "    image_name = train_csv.iloc[unreadable_indexes[i + offset],0]\n",
    "    image = cv2.imread(os.path.join(train_images_dir, image_name), cv2.IMREAD_GRAYSCALE)\n",
    "    plt.imshow(image, 'gray')"
   ]
  },
  {
   "cell_type": "code",
   "execution_count": 9,
   "id": "8fbfead6",
   "metadata": {
    "execution": {
     "iopub.execute_input": "2022-01-17T11:01:58.779116Z",
     "iopub.status.busy": "2022-01-17T11:01:58.778159Z",
     "iopub.status.idle": "2022-01-17T11:01:58.808899Z",
     "shell.execute_reply": "2022-01-17T11:01:58.808444Z",
     "shell.execute_reply.started": "2022-01-17T10:13:12.849326Z"
    },
    "papermill": {
     "duration": 0.100358,
     "end_time": "2022-01-17T11:01:58.809034",
     "exception": false,
     "start_time": "2022-01-17T11:01:58.708676",
     "status": "completed"
    },
    "tags": []
   },
   "outputs": [],
   "source": [
    "train_csv = train_csv[train_csv['IDENTITY'] != 'UNREADABLE']\n",
    "\n",
    "validation_csv = validation_csv[validation_csv['IDENTITY'] != 'UNREADABLE']\n",
    "\n",
    "test_csv = test_csv[test_csv['IDENTITY'] != 'UNREADABLE']"
   ]
  },
  {
   "cell_type": "code",
   "execution_count": 10,
   "id": "1bc9b4c8",
   "metadata": {
    "execution": {
     "iopub.execute_input": "2022-01-17T11:01:58.890198Z",
     "iopub.status.busy": "2022-01-17T11:01:58.889334Z",
     "iopub.status.idle": "2022-01-17T11:01:59.168307Z",
     "shell.execute_reply": "2022-01-17T11:01:59.167687Z",
     "shell.execute_reply.started": "2022-01-17T10:13:12.941085Z"
    },
    "papermill": {
     "duration": 0.336849,
     "end_time": "2022-01-17T11:01:59.168473",
     "exception": false,
     "start_time": "2022-01-17T11:01:58.831624",
     "status": "completed"
    },
    "tags": []
   },
   "outputs": [
    {
     "name": "stdout",
     "output_type": "stream",
     "text": [
      "Number of samples found:  330294\n",
      "Number of unique characters:  30\n",
      "Characters present:  {\"'\", 'b', 'k', 'i', 'v', 'e', 'j', 'a', 'p', 'l', 'f', 'w', 'c', '-', 'o', '`', ' ', 'z', 't', 's', 'q', 'u', 'x', 'g', 'h', 'd', 'm', 'r', 'n', 'y'}\n"
     ]
    }
   ],
   "source": [
    "# Make all chars lowercase\n",
    "train_csv['IDENTITY'] = train_csv['IDENTITY'].str.lower()\n",
    "validation_csv['IDENTITY'] = validation_csv['IDENTITY'].str.lower()\n",
    "test_csv['IDENTITY'] = test_csv['IDENTITY'].str.lower()\n",
    "\n",
    "\n",
    "\n",
    "characters = set(char for label in train_csv['IDENTITY'].values for char in label)\n",
    "\n",
    "print(\"Number of samples found: \", len(train_csv.values))\n",
    "print(\"Number of unique characters: \", len(characters))\n",
    "print(\"Characters present: \", characters)"
   ]
  },
  {
   "cell_type": "markdown",
   "id": "35369693",
   "metadata": {
    "papermill": {
     "duration": 0.022905,
     "end_time": "2022-01-17T11:01:59.214875",
     "exception": false,
     "start_time": "2022-01-17T11:01:59.191970",
     "status": "completed"
    },
    "tags": []
   },
   "source": [
    "# Preprocessing"
   ]
  },
  {
   "cell_type": "code",
   "execution_count": 11,
   "id": "919bb4fa",
   "metadata": {
    "execution": {
     "iopub.execute_input": "2022-01-17T11:01:59.272322Z",
     "iopub.status.busy": "2022-01-17T11:01:59.271469Z",
     "iopub.status.idle": "2022-01-17T11:02:00.362490Z",
     "shell.execute_reply": "2022-01-17T11:02:00.363113Z",
     "shell.execute_reply.started": "2022-01-17T10:13:13.304841Z"
    },
    "papermill": {
     "duration": 1.124134,
     "end_time": "2022-01-17T11:02:00.363319",
     "exception": false,
     "start_time": "2022-01-17T11:01:59.239185",
     "status": "completed"
    },
    "tags": []
   },
   "outputs": [
    {
     "name": "stdout",
     "output_type": "stream",
     "text": [
      "Sample sequence:  [10, 2, 11, 18, 5, 1, 25, 8, 1, 24, 8]\n",
      "Sample pad:  [10  2 11 18  5  1 25  8  1 24  8  0  0  0  0  0  0  0  0  0  0  0  0  0\n",
      "  0  0  0  0  0  0  0  0  0  0]\n",
      "Sample text:  s a m p l e   t e x t\n"
     ]
    }
   ],
   "source": [
    "from tensorflow.keras.preprocessing.text import Tokenizer\n",
    "from tensorflow.keras.preprocessing.sequence import pad_sequences\n",
    "\n",
    "max_length = max([len(label) for label in train_csv['IDENTITY'].values])\n",
    "tokenizer = Tokenizer(num_words = max_length, char_level = True)\n",
    "tokenizer.fit_on_texts(train_csv['IDENTITY'].values)\n",
    "word_index = tokenizer.word_index\n",
    "\n",
    "sample_sequence = tokenizer.texts_to_sequences(['sample text'])\n",
    "sample_pad = pad_sequences(sample_sequence, maxlen = max_length, padding = 'post')\n",
    "sample_text = tokenizer.sequences_to_texts(sample_sequence)\n",
    "print(\"Sample sequence: \", sample_sequence[0])\n",
    "print(\"Sample pad: \", sample_pad[0])\n",
    "print(\"Sample text: \", sample_text[0])\n",
    "\n",
    "img_width = 50\n",
    "img_height = 200"
   ]
  },
  {
   "cell_type": "markdown",
   "id": "948b0886",
   "metadata": {
    "papermill": {
     "duration": 0.022711,
     "end_time": "2022-01-17T11:02:00.410080",
     "exception": false,
     "start_time": "2022-01-17T11:02:00.387369",
     "status": "completed"
    },
    "tags": []
   },
   "source": [
    "## Preprocess Images"
   ]
  },
  {
   "cell_type": "code",
   "execution_count": 12,
   "id": "4632673d",
   "metadata": {
    "execution": {
     "iopub.execute_input": "2022-01-17T11:02:00.478833Z",
     "iopub.status.busy": "2022-01-17T11:02:00.473633Z",
     "iopub.status.idle": "2022-01-17T11:02:01.265440Z",
     "shell.execute_reply": "2022-01-17T11:02:01.265913Z",
     "shell.execute_reply.started": "2022-01-17T10:13:14.672998Z"
    },
    "papermill": {
     "duration": 0.833067,
     "end_time": "2022-01-17T11:02:01.266076",
     "exception": false,
     "start_time": "2022-01-17T11:02:00.433009",
     "status": "completed"
    },
    "tags": []
   },
   "outputs": [
    {
     "data": {
      "image/png": "[encoded data removed]",
      "text/plain": [
       "<Figure size 1080x216 with 6 Axes>"
      ]
     },
     "metadata": {
      "needs_background": "light"
     },
     "output_type": "display_data"
    }
   ],
   "source": [
    "plt.figure(figsize = (15,3))\n",
    "\n",
    "offset = 0\n",
    "for i in range(6):\n",
    "    ax = plt.subplot(2, 3, i+1)\n",
    "    image_name = train_csv.iloc[i + offset,0]\n",
    "    image = cv2.imread(os.path.join(train_images_dir, image_name), cv2.IMREAD_GRAYSCALE)\n",
    "    plt.imshow(image, 'gray')\n",
    "    plt.title(f'{train_csv.iloc[i + offset,1]},{image.shape}')"
   ]
  },
  {
   "cell_type": "code",
   "execution_count": 13,
   "id": "8f796dcb",
   "metadata": {
    "execution": {
     "iopub.execute_input": "2022-01-17T11:02:01.332495Z",
     "iopub.status.busy": "2022-01-17T11:02:01.331759Z",
     "iopub.status.idle": "2022-01-17T11:02:01.334644Z",
     "shell.execute_reply": "2022-01-17T11:02:01.335076Z",
     "shell.execute_reply.started": "2022-01-17T10:13:15.630123Z"
    },
    "papermill": {
     "duration": 0.037788,
     "end_time": "2022-01-17T11:02:01.335233",
     "exception": false,
     "start_time": "2022-01-17T11:02:01.297445",
     "status": "completed"
    },
    "tags": []
   },
   "outputs": [],
   "source": [
    "images = train_csv['FILENAME'].values\n",
    "labels = train_csv['IDENTITY'].values\n",
    "\n",
    "\n",
    "def preprocess_single_sample(image_path, label, TEST = False):\n",
    "    if TEST:\n",
    "        img = cv2.imread(os.path.join(validation_images_dir, image_path), cv2.IMREAD_GRAYSCALE)\n",
    "    else:\n",
    "        img = cv2.imread(os.path.join(train_images_dir, image_path), cv2.IMREAD_GRAYSCALE)\n",
    "        \n",
    "    img = cv2.resize(img,(img_height, img_width), interpolation = cv2.INTER_AREA)\n",
    "    img = cv2.rotate(img, cv2.ROTATE_90_CLOCKWISE) / 255\n",
    "    \n",
    "    label_sequence = tokenizer.texts_to_sequences([label])\n",
    "    label = pad_sequences(label_sequence, maxlen = max_length, padding = 'post')[0]\n",
    "    \n",
    "    return img,label"
   ]
  },
  {
   "cell_type": "code",
   "execution_count": 14,
   "id": "b2cc40b2",
   "metadata": {
    "execution": {
     "iopub.execute_input": "2022-01-17T11:02:01.393355Z",
     "iopub.status.busy": "2022-01-17T11:02:01.392663Z",
     "iopub.status.idle": "2022-01-17T11:02:01.404996Z",
     "shell.execute_reply": "2022-01-17T11:02:01.404515Z",
     "shell.execute_reply.started": "2022-01-17T10:13:15.642446Z"
    },
    "papermill": {
     "duration": 0.043702,
     "end_time": "2022-01-17T11:02:01.405136",
     "exception": false,
     "start_time": "2022-01-17T11:02:01.361434",
     "status": "completed"
    },
    "tags": []
   },
   "outputs": [],
   "source": [
    "train_length = 30000\n",
    "validation_length = 3000\n",
    "test_length = 3000\n",
    "\n",
    "indices = np.arange(len(train_csv))\n",
    "np.random.shuffle(indices)\n",
    "\n",
    "test_indices = np.arange(len(test_csv))\n",
    "np.random.shuffle(test_indices)"
   ]
  },
  {
   "cell_type": "code",
   "execution_count": 15,
   "id": "b208c8fe",
   "metadata": {
    "execution": {
     "iopub.execute_input": "2022-01-17T11:02:01.465281Z",
     "iopub.status.busy": "2022-01-17T11:02:01.464657Z",
     "iopub.status.idle": "2022-01-17T11:05:25.624013Z",
     "shell.execute_reply": "2022-01-17T11:05:25.623501Z",
     "shell.execute_reply.started": "2022-01-17T10:13:15.665711Z"
    },
    "papermill": {
     "duration": 204.192358,
     "end_time": "2022-01-17T11:05:25.624167",
     "exception": false,
     "start_time": "2022-01-17T11:02:01.431809",
     "status": "completed"
    },
    "tags": []
   },
   "outputs": [],
   "source": [
    "x_train = []\n",
    "y_train = []\n",
    "train_label_len = []\n",
    "for i in range(train_length):\n",
    "    image_name = train_csv.iloc[indices[i], 0]\n",
    "    label = train_csv.iloc[indices[i], 1]\n",
    "    train_label_len.append(len(label))\n",
    "    \n",
    "    img, label = preprocess_single_sample(image_name, label)\n",
    "    img = np.expand_dims(img, axis = 2)\n",
    "    x_train.append(img)\n",
    "    y_train.append(label)\n",
    "    \n",
    "x_train = np.array(x_train)\n",
    "y_train = np.array(y_train)\n",
    "train_label_len = np.array(train_label_len)"
   ]
  },
  {
   "cell_type": "code",
   "execution_count": 16,
   "id": "02816eb5",
   "metadata": {
    "execution": {
     "iopub.execute_input": "2022-01-17T11:05:25.680180Z",
     "iopub.status.busy": "2022-01-17T11:05:25.679651Z",
     "iopub.status.idle": "2022-01-17T11:05:45.990543Z",
     "shell.execute_reply": "2022-01-17T11:05:45.990072Z",
     "shell.execute_reply.started": "2022-01-17T10:17:19.511951Z"
    },
    "papermill": {
     "duration": 20.341335,
     "end_time": "2022-01-17T11:05:45.990686",
     "exception": false,
     "start_time": "2022-01-17T11:05:25.649351",
     "status": "completed"
    },
    "tags": []
   },
   "outputs": [],
   "source": [
    "x_val = []\n",
    "y_val = []\n",
    "valid_label_len = []\n",
    "\n",
    "for i in range(train_length, train_length+validation_length):\n",
    "    image_name = train_csv.iloc[indices[i], 0]\n",
    "    label = train_csv.iloc[indices[i], 1]\n",
    "    valid_label_len.append(len(label))\n",
    "    \n",
    "    img, label = preprocess_single_sample(image_name, label)\n",
    "    img = np.expand_dims(img, axis = 2)\n",
    "    x_val.append(img)\n",
    "    y_val.append(label)\n",
    "\n",
    "x_val = np.array(x_val)\n",
    "y_val = np.array(y_val)\n",
    "valid_label_len = np.array(valid_label_len)"
   ]
  },
  {
   "cell_type": "code",
   "execution_count": 17,
   "id": "0a27ef19",
   "metadata": {
    "execution": {
     "iopub.execute_input": "2022-01-17T11:05:46.046758Z",
     "iopub.status.busy": "2022-01-17T11:05:46.046228Z",
     "iopub.status.idle": "2022-01-17T11:06:04.062059Z",
     "shell.execute_reply": "2022-01-17T11:06:04.061413Z",
     "shell.execute_reply.started": "2022-01-17T10:17:42.793443Z"
    },
    "papermill": {
     "duration": 18.046256,
     "end_time": "2022-01-17T11:06:04.062188",
     "exception": false,
     "start_time": "2022-01-17T11:05:46.015932",
     "status": "completed"
    },
    "tags": []
   },
   "outputs": [],
   "source": [
    "x_test = []\n",
    "y_test = []\n",
    "\n",
    "for i in range(test_length):\n",
    "    image_name = train_csv.iloc[test_indices[i], 0]\n",
    "    label = train_csv.iloc[test_indices[i], 1]\n",
    "    \n",
    "    img, _ = preprocess_single_sample(image_name, label)\n",
    "    img = np.expand_dims(img, axis = 2)\n",
    "    x_test.append(img)\n",
    "    y_test.append(label)\n",
    "\n",
    "x_test = np.array(x_test)\n",
    "y_test = np.array(y_test)"
   ]
  },
  {
   "cell_type": "code",
   "execution_count": 18,
   "id": "9170ea05",
   "metadata": {
    "execution": {
     "iopub.execute_input": "2022-01-17T11:06:04.117067Z",
     "iopub.status.busy": "2022-01-17T11:06:04.116312Z",
     "iopub.status.idle": "2022-01-17T11:06:04.119070Z",
     "shell.execute_reply": "2022-01-17T11:06:04.119461Z",
     "shell.execute_reply.started": "2022-01-16T18:13:18.422469Z"
    },
    "papermill": {
     "duration": 0.032418,
     "end_time": "2022-01-17T11:06:04.119587",
     "exception": false,
     "start_time": "2022-01-17T11:06:04.087169",
     "status": "completed"
    },
    "tags": []
   },
   "outputs": [
    {
     "data": {
      "text/plain": [
       "((30000, 200, 50, 1), (3000, 200, 50, 1), (30000, 34), (3000, 34))"
      ]
     },
     "execution_count": 18,
     "metadata": {},
     "output_type": "execute_result"
    }
   ],
   "source": [
    "x_train.shape, x_val.shape, y_train.shape, y_val.shape"
   ]
  },
  {
   "cell_type": "code",
   "execution_count": 19,
   "id": "a15d6773",
   "metadata": {
    "execution": {
     "iopub.execute_input": "2022-01-17T11:06:04.173553Z",
     "iopub.status.busy": "2022-01-17T11:06:04.172349Z",
     "iopub.status.idle": "2022-01-17T11:06:04.176340Z",
     "shell.execute_reply": "2022-01-17T11:06:04.176699Z",
     "shell.execute_reply.started": "2022-01-17T10:27:46.171393Z"
    },
    "papermill": {
     "duration": 0.032627,
     "end_time": "2022-01-17T11:06:04.176836",
     "exception": false,
     "start_time": "2022-01-17T11:06:04.144209",
     "status": "completed"
    },
    "tags": []
   },
   "outputs": [],
   "source": [
    "train_input_len = np.ones([train_length, 1]) * 48\n",
    "valid_input_len = np.ones([validation_length, 1]) * 48\n",
    "valid_output = np.zeros([validation_length])"
   ]
  },
  {
   "cell_type": "code",
   "execution_count": 20,
   "id": "a0ff490d",
   "metadata": {
    "execution": {
     "iopub.execute_input": "2022-01-17T11:06:04.230584Z",
     "iopub.status.busy": "2022-01-17T11:06:04.229893Z",
     "iopub.status.idle": "2022-01-17T11:06:04.232114Z",
     "shell.execute_reply": "2022-01-17T11:06:04.232485Z",
     "shell.execute_reply.started": "2022-01-17T10:27:48.971120Z"
    },
    "papermill": {
     "duration": 0.030855,
     "end_time": "2022-01-17T11:06:04.232610",
     "exception": false,
     "start_time": "2022-01-17T11:06:04.201755",
     "status": "completed"
    },
    "tags": []
   },
   "outputs": [],
   "source": [
    "from keras import backend as K\n",
    "def ctc_loss(args):\n",
    "    labels, y_pred, input_length, label_length = args\n",
    "    return K.ctc_batch_cost(labels, y_pred, input_length, label_length)"
   ]
  },
  {
   "cell_type": "code",
   "execution_count": 21,
   "id": "3e1f967d",
   "metadata": {
    "execution": {
     "iopub.execute_input": "2022-01-17T11:06:04.292741Z",
     "iopub.status.busy": "2022-01-17T11:06:04.292042Z",
     "iopub.status.idle": "2022-01-17T11:06:07.400790Z",
     "shell.execute_reply": "2022-01-17T11:06:07.400322Z",
     "shell.execute_reply.started": "2022-01-17T10:27:49.510639Z"
    },
    "papermill": {
     "duration": 3.143869,
     "end_time": "2022-01-17T11:06:07.400946",
     "exception": false,
     "start_time": "2022-01-17T11:06:04.257077",
     "status": "completed"
    },
    "tags": []
   },
   "outputs": [
    {
     "name": "stderr",
     "output_type": "stream",
     "text": [
      "2022-01-17 11:06:04.377303: I tensorflow/stream_executor/cuda/cuda_gpu_executor.cc:937] successful NUMA node read from SysFS had negative value (-1), but there must be at least one NUMA node, so returning NUMA node zero\n",
      "2022-01-17 11:06:04.489867: I tensorflow/stream_executor/cuda/cuda_gpu_executor.cc:937] successful NUMA node read from SysFS had negative value (-1), but there must be at least one NUMA node, so returning NUMA node zero\n",
      "2022-01-17 11:06:04.490649: I tensorflow/stream_executor/cuda/cuda_gpu_executor.cc:937] successful NUMA node read from SysFS had negative value (-1), but there must be at least one NUMA node, so returning NUMA node zero\n",
      "2022-01-17 11:06:04.491812: I tensorflow/core/platform/cpu_feature_guard.cc:142] This TensorFlow binary is optimized with oneAPI Deep Neural Network Library (oneDNN) to use the following CPU instructions in performance-critical operations:  AVX2 AVX512F FMA\n",
      "To enable them in other operations, rebuild TensorFlow with the appropriate compiler flags.\n",
      "2022-01-17 11:06:04.492774: I tensorflow/stream_executor/cuda/cuda_gpu_executor.cc:937] successful NUMA node read from SysFS had negative value (-1), but there must be at least one NUMA node, so returning NUMA node zero\n",
      "2022-01-17 11:06:04.493438: I tensorflow/stream_executor/cuda/cuda_gpu_executor.cc:937] successful NUMA node read from SysFS had negative value (-1), but there must be at least one NUMA node, so returning NUMA node zero\n",
      "2022-01-17 11:06:04.494077: I tensorflow/stream_executor/cuda/cuda_gpu_executor.cc:937] successful NUMA node read from SysFS had negative value (-1), but there must be at least one NUMA node, so returning NUMA node zero\n",
      "2022-01-17 11:06:06.079761: I tensorflow/stream_executor/cuda/cuda_gpu_executor.cc:937] successful NUMA node read from SysFS had negative value (-1), but there must be at least one NUMA node, so returning NUMA node zero\n",
      "2022-01-17 11:06:06.080903: I tensorflow/stream_executor/cuda/cuda_gpu_executor.cc:937] successful NUMA node read from SysFS had negative value (-1), but there must be at least one NUMA node, so returning NUMA node zero\n",
      "2022-01-17 11:06:06.081994: I tensorflow/stream_executor/cuda/cuda_gpu_executor.cc:937] successful NUMA node read from SysFS had negative value (-1), but there must be at least one NUMA node, so returning NUMA node zero\n",
      "2022-01-17 11:06:06.082860: I tensorflow/core/common_runtime/gpu/gpu_device.cc:1510] Created device /job:localhost/replica:0/task:0/device:GPU:0 with 15403 MB memory:  -> device: 0, name: Tesla P100-PCIE-16GB, pci bus id: 0000:00:04.0, compute capability: 6.0\n"
     ]
    }
   ],
   "source": [
    "# Inputs to the model\n",
    "input_img = layers.Input(shape=(200, 50, 1), name=\"image\")\n",
    "labels = layers.Input(name=\"label\", shape=(max_length,))\n",
    "input_length = layers.Input(name='input_length', shape=(1,))\n",
    "label_length = layers.Input(name='label_length', shape=(1,))\n",
    "\n",
    "x = layers.Conv2D(\n",
    "    32,\n",
    "    (3, 3),\n",
    "    activation=\"relu\",\n",
    "    kernel_initializer=\"he_normal\",\n",
    "    padding=\"same\",\n",
    "    name=\"Conv1\",\n",
    ")(input_img)\n",
    "x = layers.MaxPooling2D((2, 2), name=\"pool1\")(x)\n",
    "\n",
    "\n",
    "x = layers.Conv2D(\n",
    "    64,\n",
    "    (3, 3),\n",
    "    activation=\"relu\",\n",
    "    kernel_initializer=\"he_normal\",\n",
    "    padding=\"same\",\n",
    "    name=\"Conv2\",\n",
    ")(x)\n",
    "x = layers.MaxPooling2D((2, 2), name=\"pool2\")(x)\n",
    "\n",
    "x = layers.Reshape(target_shape=(50,768), name=\"reshape\")(x)\n",
    "x = layers.Dense(64, activation=\"relu\", name=\"dense1\")(x)\n",
    "x = layers.Dropout(0.2)(x)\n",
    "\n",
    "\n",
    "x = layers.Bidirectional(layers.LSTM(256, return_sequences=True, dropout=0.25))(x)\n",
    "x = layers.Bidirectional(layers.LSTM(256, return_sequences=True, dropout=0.25))(x)\n",
    "\n",
    "# Output layer\n",
    "y_pred = layers.Dense(\n",
    "    len(characters) + 1, activation=\"softmax\", name=\"output\"\n",
    ")(x)\n",
    "\n",
    "loss_out = layers.Lambda(ctc_loss, output_shape=(1,), name='ctc')([labels, y_pred, input_length, label_length])\n",
    "\n",
    "\n",
    "# Define the model\n",
    "model = keras.models.Model(inputs=[input_img, labels, input_length, label_length], \n",
    "                           outputs=loss_out,\n",
    "                           name=\"ocr_model_v1\")"
   ]
  },
  {
   "cell_type": "code",
   "execution_count": 22,
   "id": "a9bf041f",
   "metadata": {
    "execution": {
     "iopub.execute_input": "2022-01-17T11:06:07.463669Z",
     "iopub.status.busy": "2022-01-17T11:06:07.462854Z",
     "iopub.status.idle": "2022-01-17T11:06:07.476719Z",
     "shell.execute_reply": "2022-01-17T11:06:07.476325Z",
     "shell.execute_reply.started": "2022-01-17T10:27:53.468555Z"
    },
    "papermill": {
     "duration": 0.050554,
     "end_time": "2022-01-17T11:06:07.476872",
     "exception": false,
     "start_time": "2022-01-17T11:06:07.426318",
     "status": "completed"
    },
    "tags": []
   },
   "outputs": [
    {
     "name": "stdout",
     "output_type": "stream",
     "text": [
      "Model: \"ocr_model_v1\"\n",
      "__________________________________________________________________________________________________\n",
      "Layer (type)                    Output Shape         Param #     Connected to                     \n",
      "==================================================================================================\n",
      "image (InputLayer)              [(None, 200, 50, 1)] 0                                            \n",
      "__________________________________________________________________________________________________\n",
      "Conv1 (Conv2D)                  (None, 200, 50, 32)  320         image[0][0]                      \n",
      "__________________________________________________________________________________________________\n",
      "pool1 (MaxPooling2D)            (None, 100, 25, 32)  0           Conv1[0][0]                      \n",
      "__________________________________________________________________________________________________\n",
      "Conv2 (Conv2D)                  (None, 100, 25, 64)  18496       pool1[0][0]                      \n",
      "__________________________________________________________________________________________________\n",
      "pool2 (MaxPooling2D)            (None, 50, 12, 64)   0           Conv2[0][0]                      \n",
      "__________________________________________________________________________________________________\n",
      "reshape (Reshape)               (None, 50, 768)      0           pool2[0][0]                      \n",
      "__________________________________________________________________________________________________\n",
      "dense1 (Dense)                  (None, 50, 64)       49216       reshape[0][0]                    \n",
      "__________________________________________________________________________________________________\n",
      "dropout (Dropout)               (None, 50, 64)       0           dense1[0][0]                     \n",
      "__________________________________________________________________________________________________\n",
      "bidirectional (Bidirectional)   (None, 50, 512)      657408      dropout[0][0]                    \n",
      "__________________________________________________________________________________________________\n",
      "bidirectional_1 (Bidirectional) (None, 50, 512)      1574912     bidirectional[0][0]              \n",
      "__________________________________________________________________________________________________\n",
      "label (InputLayer)              [(None, 34)]         0                                            \n",
      "__________________________________________________________________________________________________\n",
      "output (Dense)                  (None, 50, 31)       15903       bidirectional_1[0][0]            \n",
      "__________________________________________________________________________________________________\n",
      "input_length (InputLayer)       [(None, 1)]          0                                            \n",
      "__________________________________________________________________________________________________\n",
      "label_length (InputLayer)       [(None, 1)]          0                                            \n",
      "__________________________________________________________________________________________________\n",
      "ctc (Lambda)                    (None, 1)            0           label[0][0]                      \n",
      "                                                                 output[0][0]                     \n",
      "                                                                 input_length[0][0]               \n",
      "                                                                 label_length[0][0]               \n",
      "==================================================================================================\n",
      "Total params: 2,316,255\n",
      "Trainable params: 2,316,255\n",
      "Non-trainable params: 0\n",
      "__________________________________________________________________________________________________\n"
     ]
    }
   ],
   "source": [
    "opt = keras.optimizers.Adam()\n",
    "\n",
    "model.compile(loss={'ctc': lambda y_true, y_pred: y_pred}, optimizer=opt)\n",
    "model.summary()"
   ]
  },
  {
   "cell_type": "code",
   "execution_count": 23,
   "id": "870b466c",
   "metadata": {
    "execution": {
     "iopub.execute_input": "2022-01-17T11:06:07.534626Z",
     "iopub.status.busy": "2022-01-17T11:06:07.533873Z",
     "iopub.status.idle": "2022-01-17T11:24:51.475978Z",
     "shell.execute_reply": "2022-01-17T11:24:51.475515Z",
     "shell.execute_reply.started": "2022-01-17T10:28:00.844872Z"
    },
    "papermill": {
     "duration": 1123.973548,
     "end_time": "2022-01-17T11:24:51.476110",
     "exception": false,
     "start_time": "2022-01-17T11:06:07.502562",
     "status": "completed"
    },
    "tags": []
   },
   "outputs": [
    {
     "name": "stderr",
     "output_type": "stream",
     "text": [
      "2022-01-17 11:06:07.989656: W tensorflow/core/framework/cpu_allocator_impl.cc:80] Allocation of 1200000000 exceeds 10% of free system memory.\n",
      "2022-01-17 11:06:09.195243: W tensorflow/core/framework/cpu_allocator_impl.cc:80] Allocation of 1200000000 exceeds 10% of free system memory.\n",
      "2022-01-17 11:06:10.242080: I tensorflow/compiler/mlir/mlir_graph_optimization_pass.cc:185] None of the MLIR Optimization Passes are enabled (registered 2)\n"
     ]
    },
    {
     "name": "stdout",
     "output_type": "stream",
     "text": [
      "Epoch 1/50\n"
     ]
    },
    {
     "name": "stderr",
     "output_type": "stream",
     "text": [
      "2022-01-17 11:06:16.246762: I tensorflow/stream_executor/cuda/cuda_dnn.cc:369] Loaded cuDNN version 8005\n"
     ]
    },
    {
     "name": "stdout",
     "output_type": "stream",
     "text": [
      "235/235 [==============================] - 41s 124ms/step - loss: 21.2266 - val_loss: 20.1301\n",
      "Epoch 2/50\n",
      "235/235 [==============================] - 27s 115ms/step - loss: 19.5297 - val_loss: 19.1071\n",
      "Epoch 3/50\n",
      "235/235 [==============================] - 27s 116ms/step - loss: 18.7280 - val_loss: 18.3618\n",
      "Epoch 4/50\n",
      "235/235 [==============================] - 27s 115ms/step - loss: 17.8216 - val_loss: 16.8803\n",
      "Epoch 5/50\n",
      "235/235 [==============================] - 27s 114ms/step - loss: 15.6555 - val_loss: 14.0620\n",
      "Epoch 6/50\n",
      "235/235 [==============================] - 27s 117ms/step - loss: 13.2353 - val_loss: 11.1770\n",
      "Epoch 7/50\n",
      "235/235 [==============================] - 27s 116ms/step - loss: 11.1384 - val_loss: 9.3010\n",
      "Epoch 8/50\n",
      "235/235 [==============================] - 27s 115ms/step - loss: 9.5503 - val_loss: 7.9200\n",
      "Epoch 9/50\n",
      "235/235 [==============================] - 28s 117ms/step - loss: 8.8721 - val_loss: 6.9080\n",
      "Epoch 10/50\n",
      "235/235 [==============================] - 28s 117ms/step - loss: 7.3315 - val_loss: 6.1555\n",
      "Epoch 11/50\n",
      "235/235 [==============================] - 27s 117ms/step - loss: 6.4237 - val_loss: 5.2277\n",
      "Epoch 12/50\n",
      "235/235 [==============================] - 28s 118ms/step - loss: 5.7604 - val_loss: 5.0332\n",
      "Epoch 13/50\n",
      "235/235 [==============================] - 27s 116ms/step - loss: 5.3068 - val_loss: 4.8518\n",
      "Epoch 14/50\n",
      "235/235 [==============================] - 27s 116ms/step - loss: 4.9404 - val_loss: 4.4523\n",
      "Epoch 15/50\n",
      "235/235 [==============================] - 27s 117ms/step - loss: 4.5882 - val_loss: 4.1551\n",
      "Epoch 16/50\n",
      "235/235 [==============================] - 28s 118ms/step - loss: 4.3065 - val_loss: 4.0175\n",
      "Epoch 17/50\n",
      "235/235 [==============================] - 28s 118ms/step - loss: 4.1053 - val_loss: 4.0514\n",
      "Epoch 18/50\n",
      "235/235 [==============================] - 28s 118ms/step - loss: 3.8547 - val_loss: 3.8972\n",
      "Epoch 19/50\n",
      "235/235 [==============================] - 27s 115ms/step - loss: 3.6219 - val_loss: 3.9429\n",
      "Epoch 20/50\n",
      "235/235 [==============================] - 28s 117ms/step - loss: 3.4197 - val_loss: 3.7618\n",
      "Epoch 21/50\n",
      "235/235 [==============================] - 28s 117ms/step - loss: 3.3434 - val_loss: 3.8667\n",
      "Epoch 22/50\n",
      "235/235 [==============================] - 28s 119ms/step - loss: 3.2305 - val_loss: 3.7063\n",
      "Epoch 23/50\n",
      "235/235 [==============================] - 28s 117ms/step - loss: 2.9698 - val_loss: 3.6476\n",
      "Epoch 24/50\n",
      "235/235 [==============================] - 28s 119ms/step - loss: 2.8903 - val_loss: 3.7593\n",
      "Epoch 25/50\n",
      "235/235 [==============================] - 27s 116ms/step - loss: 2.7613 - val_loss: 3.5242\n",
      "Epoch 26/50\n",
      "235/235 [==============================] - 28s 120ms/step - loss: 2.6206 - val_loss: 3.9143\n",
      "Epoch 27/50\n",
      "235/235 [==============================] - 26s 113ms/step - loss: 2.5534 - val_loss: 3.4781\n",
      "Epoch 28/50\n",
      "235/235 [==============================] - 28s 120ms/step - loss: 2.4028 - val_loss: 3.5247\n",
      "Epoch 29/50\n",
      "235/235 [==============================] - 28s 119ms/step - loss: 2.3319 - val_loss: 3.6378\n",
      "Epoch 30/50\n",
      "235/235 [==============================] - 28s 118ms/step - loss: 2.2331 - val_loss: 3.4420\n",
      "Epoch 31/50\n",
      "235/235 [==============================] - 28s 120ms/step - loss: 2.1671 - val_loss: 3.4860\n",
      "Epoch 32/50\n",
      "235/235 [==============================] - 28s 120ms/step - loss: 2.2024 - val_loss: 3.5119\n",
      "Epoch 33/50\n",
      "235/235 [==============================] - 28s 118ms/step - loss: 1.9822 - val_loss: 3.5222\n",
      "Epoch 34/50\n",
      "235/235 [==============================] - 29s 124ms/step - loss: 1.9362 - val_loss: 3.4953\n",
      "Epoch 35/50\n",
      "235/235 [==============================] - 29s 123ms/step - loss: 1.7568 - val_loss: 3.6074\n",
      "Epoch 36/50\n",
      "235/235 [==============================] - 29s 124ms/step - loss: 1.7480 - val_loss: 3.4619\n",
      "Epoch 37/50\n",
      "235/235 [==============================] - 29s 122ms/step - loss: 1.8306 - val_loss: 3.4673\n",
      "Epoch 38/50\n",
      "235/235 [==============================] - 28s 121ms/step - loss: 1.6446 - val_loss: 3.6559\n",
      "Epoch 39/50\n",
      "235/235 [==============================] - 26s 112ms/step - loss: 1.6001 - val_loss: 3.5250\n",
      "Epoch 40/50\n",
      "235/235 [==============================] - 29s 122ms/step - loss: 1.4845 - val_loss: 3.6602\n"
     ]
    }
   ],
   "source": [
    "epochs = 50\n",
    "early_stopping_patience = 10\n",
    "# Add early stopping\n",
    "early_stopping = keras.callbacks.EarlyStopping(\n",
    "    monitor=\"val_loss\", patience=early_stopping_patience, restore_best_weights=True\n",
    ")\n",
    "\n",
    "# Train the model\n",
    "history = model.fit(\n",
    "    x = (x_train, y_train, train_input_len, train_label_len),\n",
    "    y = np.zeros([train_length]),\n",
    "    validation_data = ([x_val, y_val, valid_input_len, valid_label_len], np.zeros([validation_length]) ),\n",
    "    epochs=epochs,\n",
    "    batch_size = 128,\n",
    "    callbacks=[early_stopping]\n",
    ")"
   ]
  },
  {
   "cell_type": "code",
   "execution_count": 24,
   "id": "c48e8007",
   "metadata": {
    "execution": {
     "iopub.execute_input": "2022-01-17T11:24:56.928750Z",
     "iopub.status.busy": "2022-01-17T11:24:56.927925Z",
     "iopub.status.idle": "2022-01-17T11:24:56.939347Z",
     "shell.execute_reply": "2022-01-17T11:24:56.939750Z",
     "shell.execute_reply.started": "2022-01-17T10:52:46.344205Z"
    },
    "papermill": {
     "duration": 2.996803,
     "end_time": "2022-01-17T11:24:56.939918",
     "exception": false,
     "start_time": "2022-01-17T11:24:53.943115",
     "status": "completed"
    },
    "tags": []
   },
   "outputs": [
    {
     "name": "stdout",
     "output_type": "stream",
     "text": [
      "Model: \"model\"\n",
      "_________________________________________________________________\n",
      "Layer (type)                 Output Shape              Param #   \n",
      "=================================================================\n",
      "image (InputLayer)           [(None, 200, 50, 1)]      0         \n",
      "_________________________________________________________________\n",
      "Conv1 (Conv2D)               (None, 200, 50, 32)       320       \n",
      "_________________________________________________________________\n",
      "pool1 (MaxPooling2D)         (None, 100, 25, 32)       0         \n",
      "_________________________________________________________________\n",
      "Conv2 (Conv2D)               (None, 100, 25, 64)       18496     \n",
      "_________________________________________________________________\n",
      "pool2 (MaxPooling2D)         (None, 50, 12, 64)        0         \n",
      "_________________________________________________________________\n",
      "reshape (Reshape)            (None, 50, 768)           0         \n",
      "_________________________________________________________________\n",
      "dense1 (Dense)               (None, 50, 64)            49216     \n",
      "_________________________________________________________________\n",
      "dropout (Dropout)            (None, 50, 64)            0         \n",
      "_________________________________________________________________\n",
      "bidirectional (Bidirectional (None, 50, 512)           657408    \n",
      "_________________________________________________________________\n",
      "bidirectional_1 (Bidirection (None, 50, 512)           1574912   \n",
      "_________________________________________________________________\n",
      "output (Dense)               (None, 50, 31)            15903     \n",
      "=================================================================\n",
      "Total params: 2,316,255\n",
      "Trainable params: 2,316,255\n",
      "Non-trainable params: 0\n",
      "_________________________________________________________________\n"
     ]
    }
   ],
   "source": [
    "prediction_model = keras.models.Model(\n",
    "    model.get_layer(name=\"image\").input, model.get_layer(name=\"output\").output\n",
    ")\n",
    "prediction_model.summary()"
   ]
  },
  {
   "cell_type": "code",
   "execution_count": 25,
   "id": "fb71b084",
   "metadata": {
    "execution": {
     "iopub.execute_input": "2022-01-17T11:25:02.132732Z",
     "iopub.status.busy": "2022-01-17T11:25:02.131865Z",
     "iopub.status.idle": "2022-01-17T11:25:02.139049Z",
     "shell.execute_reply": "2022-01-17T11:25:02.138615Z",
     "shell.execute_reply.started": "2022-01-17T10:56:37.058814Z"
    },
    "papermill": {
     "duration": 2.506089,
     "end_time": "2022-01-17T11:25:02.139176",
     "exception": false,
     "start_time": "2022-01-17T11:24:59.633087",
     "status": "completed"
    },
    "tags": []
   },
   "outputs": [],
   "source": [
    "def decode_predictions(pred):\n",
    "    input_len = np.ones(pred.shape[0]) * pred.shape[1]\n",
    "    results = keras.backend.ctc_decode(pred, input_length=input_len, greedy=True)[0][0][\n",
    "        :, :max_length\n",
    "    ]\n",
    "    output_text = []\n",
    "    for res in results:\n",
    "        decoded = tokenizer.sequences_to_texts([res.numpy()])\n",
    "        output_text.append(decoded)\n",
    "    return output_text"
   ]
  },
  {
   "cell_type": "code",
   "execution_count": 26,
   "id": "310c942f",
   "metadata": {
    "execution": {
     "iopub.execute_input": "2022-01-17T11:25:07.102054Z",
     "iopub.status.busy": "2022-01-17T11:25:07.101011Z",
     "iopub.status.idle": "2022-01-17T11:25:10.462335Z",
     "shell.execute_reply": "2022-01-17T11:25:10.463343Z",
     "shell.execute_reply.started": "2022-01-17T10:58:26.457760Z"
    },
    "papermill": {
     "duration": 5.829896,
     "end_time": "2022-01-17T11:25:10.463577",
     "exception": false,
     "start_time": "2022-01-17T11:25:04.633681",
     "status": "completed"
    },
    "tags": []
   },
   "outputs": [],
   "source": [
    "preds = prediction_model.predict(x_test)\n",
    "pred_texts = decode_predictions(preds)"
   ]
  },
  {
   "cell_type": "code",
   "execution_count": 27,
   "id": "839491e8",
   "metadata": {
    "execution": {
     "iopub.execute_input": "2022-01-17T11:25:15.522182Z",
     "iopub.status.busy": "2022-01-17T11:25:15.509522Z",
     "iopub.status.idle": "2022-01-17T11:25:16.122145Z",
     "shell.execute_reply": "2022-01-17T11:25:16.121582Z",
     "shell.execute_reply.started": "2022-01-17T11:00:27.941765Z"
    },
    "papermill": {
     "duration": 3.133519,
     "end_time": "2022-01-17T11:25:16.122276",
     "exception": false,
     "start_time": "2022-01-17T11:25:12.988757",
     "status": "completed"
    },
    "tags": []
   },
   "outputs": [
    {
     "data": {
      "image/png": "[encoded data removed]",
      "text/plain": [
       "<Figure size 1080x360 with 16 Axes>"
      ]
     },
     "metadata": {
      "needs_background": "light"
     },
     "output_type": "display_data"
    }
   ],
   "source": [
    "\n",
    "_, ax = plt.subplots(4, 4, figsize=(15, 5))\n",
    "for i in range(16):\n",
    "    img = x_test[i]\n",
    "    img = cv2.rotate(img, cv2.ROTATE_90_COUNTERCLOCKWISE)\n",
    "    title = f\"Prediction: {pred_texts[i][0]}\"\n",
    "    ax[i // 4, i % 4].imshow(img, cmap=\"gray\")\n",
    "    ax[i // 4, i % 4].set_title(title)\n",
    "    ax[i // 4, i % 4].axis(\"off\")\n",
    "plt.show()"
   ]
  },
  {
   "cell_type": "code",
   "execution_count": null,
   "id": "cb115ba1",
   "metadata": {
    "papermill": {
     "duration": 2.545965,
     "end_time": "2022-01-17T11:25:21.167516",
     "exception": false,
     "start_time": "2022-01-17T11:25:18.621551",
     "status": "completed"
    },
    "tags": []
   },
   "outputs": [],
   "source": []
  }
 ],
 "metadata": {
  "kernelspec": {
   "display_name": "Python 3",
   "language": "python",
   "name": "python3"
  },
  "language_info": {
   "codemirror_mode": {
    "name": "ipython",
    "version": 3
   },
   "file_extension": ".py",
   "mimetype": "text/x-python",
   "name": "python",
   "nbconvert_exporter": "python",
   "pygments_lexer": "ipython3",
   "version": "3.7.12"
  },
  "papermill": {
   "default_parameters": {},
   "duration": 1423.921442,
   "end_time": "2022-01-17T11:25:27.334590",
   "environment_variables": {},
   "exception": null,
   "input_path": "__notebook__.ipynb",
   "output_path": "__notebook__.ipynb",
   "parameters": {},
   "start_time": "2022-01-17T11:01:43.413148",
   "version": "2.3.3"
  }
 },
 "nbformat": 4,
 "nbformat_minor": 5
}
